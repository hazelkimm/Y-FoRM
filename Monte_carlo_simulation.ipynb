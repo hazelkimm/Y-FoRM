{
  "nbformat": 4,
  "nbformat_minor": 0,
  "metadata": {
    "colab": {
      "provenance": []
    },
    "kernelspec": {
      "name": "python3",
      "display_name": "Python 3"
    },
    "language_info": {
      "name": "python"
    }
  },
  "cells": [
    {
      "cell_type": "code",
      "execution_count": null,
      "metadata": {
        "id": "QC_l8uCQxtIj"
      },
      "outputs": [],
      "source": [
        "# Importing Packages\n",
        "import numpy as np\n",
        "from scipy.stats import norm\n",
        "from scipy.special import erfinv\n",
        "import matplotlib.pyplot as plt\n",
        "import math as m\n",
        "import random as r\n",
        "import pandas as pd"
      ]
    },
    {
      "cell_type": "code",
      "source": [
        "#reading file\n",
        "agg = pd.read_csv(\"AGG.csv\")\n",
        "nasdaq = pd.read_csv(\"^IXIC.csv\")"
      ],
      "metadata": {
        "id": "OpAA1siEx1lo"
      },
      "execution_count": null,
      "outputs": []
    },
    {
      "cell_type": "code",
      "source": [
        "agg.head()"
      ],
      "metadata": {
        "colab": {
          "base_uri": "https://localhost:8080/",
          "height": 206
        },
        "id": "RDlhZA5H0IbS",
        "outputId": "18ba3c9d-a5ea-48d3-d774-b2554324232a"
      },
      "execution_count": null,
      "outputs": [
        {
          "output_type": "execute_result",
          "data": {
            "text/plain": [
              "         Date        Open        High         Low       Close   Adj Close  \\\n",
              "0  2022-03-17  107.849998  108.059998  107.730003  107.860001  105.224762   \n",
              "1  2022-03-18  107.930000  108.139999  107.919998  108.099998  105.458885   \n",
              "2  2022-03-21  107.580002  107.650002  106.980003  107.040001  104.424789   \n",
              "3  2022-03-22  106.739998  106.879997  106.610001  106.750000  104.141861   \n",
              "4  2022-03-23  106.959999  107.209999  106.709999  107.190002  104.571121   \n",
              "\n",
              "     Volume  \n",
              "0   8035400  \n",
              "1   7864100  \n",
              "2   8024800  \n",
              "3  16120500  \n",
              "4   9060700  "
            ],
            "text/html": [
              "\n",
              "  <div id=\"df-2531baf3-4d38-4abf-a2e9-6f8a12b566b4\">\n",
              "    <div class=\"colab-df-container\">\n",
              "      <div>\n",
              "<style scoped>\n",
              "    .dataframe tbody tr th:only-of-type {\n",
              "        vertical-align: middle;\n",
              "    }\n",
              "\n",
              "    .dataframe tbody tr th {\n",
              "        vertical-align: top;\n",
              "    }\n",
              "\n",
              "    .dataframe thead th {\n",
              "        text-align: right;\n",
              "    }\n",
              "</style>\n",
              "<table border=\"1\" class=\"dataframe\">\n",
              "  <thead>\n",
              "    <tr style=\"text-align: right;\">\n",
              "      <th></th>\n",
              "      <th>Date</th>\n",
              "      <th>Open</th>\n",
              "      <th>High</th>\n",
              "      <th>Low</th>\n",
              "      <th>Close</th>\n",
              "      <th>Adj Close</th>\n",
              "      <th>Volume</th>\n",
              "    </tr>\n",
              "  </thead>\n",
              "  <tbody>\n",
              "    <tr>\n",
              "      <th>0</th>\n",
              "      <td>2022-03-17</td>\n",
              "      <td>107.849998</td>\n",
              "      <td>108.059998</td>\n",
              "      <td>107.730003</td>\n",
              "      <td>107.860001</td>\n",
              "      <td>105.224762</td>\n",
              "      <td>8035400</td>\n",
              "    </tr>\n",
              "    <tr>\n",
              "      <th>1</th>\n",
              "      <td>2022-03-18</td>\n",
              "      <td>107.930000</td>\n",
              "      <td>108.139999</td>\n",
              "      <td>107.919998</td>\n",
              "      <td>108.099998</td>\n",
              "      <td>105.458885</td>\n",
              "      <td>7864100</td>\n",
              "    </tr>\n",
              "    <tr>\n",
              "      <th>2</th>\n",
              "      <td>2022-03-21</td>\n",
              "      <td>107.580002</td>\n",
              "      <td>107.650002</td>\n",
              "      <td>106.980003</td>\n",
              "      <td>107.040001</td>\n",
              "      <td>104.424789</td>\n",
              "      <td>8024800</td>\n",
              "    </tr>\n",
              "    <tr>\n",
              "      <th>3</th>\n",
              "      <td>2022-03-22</td>\n",
              "      <td>106.739998</td>\n",
              "      <td>106.879997</td>\n",
              "      <td>106.610001</td>\n",
              "      <td>106.750000</td>\n",
              "      <td>104.141861</td>\n",
              "      <td>16120500</td>\n",
              "    </tr>\n",
              "    <tr>\n",
              "      <th>4</th>\n",
              "      <td>2022-03-23</td>\n",
              "      <td>106.959999</td>\n",
              "      <td>107.209999</td>\n",
              "      <td>106.709999</td>\n",
              "      <td>107.190002</td>\n",
              "      <td>104.571121</td>\n",
              "      <td>9060700</td>\n",
              "    </tr>\n",
              "  </tbody>\n",
              "</table>\n",
              "</div>\n",
              "      <button class=\"colab-df-convert\" onclick=\"convertToInteractive('df-2531baf3-4d38-4abf-a2e9-6f8a12b566b4')\"\n",
              "              title=\"Convert this dataframe to an interactive table.\"\n",
              "              style=\"display:none;\">\n",
              "        \n",
              "  <svg xmlns=\"http://www.w3.org/2000/svg\" height=\"24px\"viewBox=\"0 0 24 24\"\n",
              "       width=\"24px\">\n",
              "    <path d=\"M0 0h24v24H0V0z\" fill=\"none\"/>\n",
              "    <path d=\"M18.56 5.44l.94 2.06.94-2.06 2.06-.94-2.06-.94-.94-2.06-.94 2.06-2.06.94zm-11 1L8.5 8.5l.94-2.06 2.06-.94-2.06-.94L8.5 2.5l-.94 2.06-2.06.94zm10 10l.94 2.06.94-2.06 2.06-.94-2.06-.94-.94-2.06-.94 2.06-2.06.94z\"/><path d=\"M17.41 7.96l-1.37-1.37c-.4-.4-.92-.59-1.43-.59-.52 0-1.04.2-1.43.59L10.3 9.45l-7.72 7.72c-.78.78-.78 2.05 0 2.83L4 21.41c.39.39.9.59 1.41.59.51 0 1.02-.2 1.41-.59l7.78-7.78 2.81-2.81c.8-.78.8-2.07 0-2.86zM5.41 20L4 18.59l7.72-7.72 1.47 1.35L5.41 20z\"/>\n",
              "  </svg>\n",
              "      </button>\n",
              "      \n",
              "  <style>\n",
              "    .colab-df-container {\n",
              "      display:flex;\n",
              "      flex-wrap:wrap;\n",
              "      gap: 12px;\n",
              "    }\n",
              "\n",
              "    .colab-df-convert {\n",
              "      background-color: #E8F0FE;\n",
              "      border: none;\n",
              "      border-radius: 50%;\n",
              "      cursor: pointer;\n",
              "      display: none;\n",
              "      fill: #1967D2;\n",
              "      height: 32px;\n",
              "      padding: 0 0 0 0;\n",
              "      width: 32px;\n",
              "    }\n",
              "\n",
              "    .colab-df-convert:hover {\n",
              "      background-color: #E2EBFA;\n",
              "      box-shadow: 0px 1px 2px rgba(60, 64, 67, 0.3), 0px 1px 3px 1px rgba(60, 64, 67, 0.15);\n",
              "      fill: #174EA6;\n",
              "    }\n",
              "\n",
              "    [theme=dark] .colab-df-convert {\n",
              "      background-color: #3B4455;\n",
              "      fill: #D2E3FC;\n",
              "    }\n",
              "\n",
              "    [theme=dark] .colab-df-convert:hover {\n",
              "      background-color: #434B5C;\n",
              "      box-shadow: 0px 1px 3px 1px rgba(0, 0, 0, 0.15);\n",
              "      filter: drop-shadow(0px 1px 2px rgba(0, 0, 0, 0.3));\n",
              "      fill: #FFFFFF;\n",
              "    }\n",
              "  </style>\n",
              "\n",
              "      <script>\n",
              "        const buttonEl =\n",
              "          document.querySelector('#df-2531baf3-4d38-4abf-a2e9-6f8a12b566b4 button.colab-df-convert');\n",
              "        buttonEl.style.display =\n",
              "          google.colab.kernel.accessAllowed ? 'block' : 'none';\n",
              "\n",
              "        async function convertToInteractive(key) {\n",
              "          const element = document.querySelector('#df-2531baf3-4d38-4abf-a2e9-6f8a12b566b4');\n",
              "          const dataTable =\n",
              "            await google.colab.kernel.invokeFunction('convertToInteractive',\n",
              "                                                     [key], {});\n",
              "          if (!dataTable) return;\n",
              "\n",
              "          const docLinkHtml = 'Like what you see? Visit the ' +\n",
              "            '<a target=\"_blank\" href=https://colab.research.google.com/notebooks/data_table.ipynb>data table notebook</a>'\n",
              "            + ' to learn more about interactive tables.';\n",
              "          element.innerHTML = '';\n",
              "          dataTable['output_type'] = 'display_data';\n",
              "          await google.colab.output.renderOutput(dataTable, element);\n",
              "          const docLink = document.createElement('div');\n",
              "          docLink.innerHTML = docLinkHtml;\n",
              "          element.appendChild(docLink);\n",
              "        }\n",
              "      </script>\n",
              "    </div>\n",
              "  </div>\n",
              "  "
            ]
          },
          "metadata": {},
          "execution_count": 4
        }
      ]
    },
    {
      "cell_type": "code",
      "source": [
        "nasdaq.head()"
      ],
      "metadata": {
        "colab": {
          "base_uri": "https://localhost:8080/",
          "height": 206
        },
        "id": "8OToxGKQ0TB0",
        "outputId": "dc74d26c-b310-4a52-c2a4-39965c31b43d"
      },
      "execution_count": null,
      "outputs": [
        {
          "output_type": "execute_result",
          "data": {
            "text/plain": [
              "         Date          Open          High           Low         Close  \\\n",
              "0  2022-03-17  13360.719727  13620.799805  13317.139648  13614.780273   \n",
              "1  2022-03-18  13564.629883  13899.280273  13528.059570  13893.839844   \n",
              "2  2022-03-21  13860.389648  13945.809570  13682.549805  13838.459961   \n",
              "3  2022-03-22  13866.429688  14141.070313  13857.290039  14108.820313   \n",
              "4  2022-03-23  13990.349609  14152.139648  13921.650391  13922.599609   \n",
              "\n",
              "      Adj Close      Volume  \n",
              "0  13614.780273  5612090000  \n",
              "1  13893.839844  8149290000  \n",
              "2  13838.459961  5673940000  \n",
              "3  14108.820313  5445100000  \n",
              "4  13922.599609  5024230000  "
            ],
            "text/html": [
              "\n",
              "  <div id=\"df-c0ae0282-7c52-4771-b14d-63620ce35925\">\n",
              "    <div class=\"colab-df-container\">\n",
              "      <div>\n",
              "<style scoped>\n",
              "    .dataframe tbody tr th:only-of-type {\n",
              "        vertical-align: middle;\n",
              "    }\n",
              "\n",
              "    .dataframe tbody tr th {\n",
              "        vertical-align: top;\n",
              "    }\n",
              "\n",
              "    .dataframe thead th {\n",
              "        text-align: right;\n",
              "    }\n",
              "</style>\n",
              "<table border=\"1\" class=\"dataframe\">\n",
              "  <thead>\n",
              "    <tr style=\"text-align: right;\">\n",
              "      <th></th>\n",
              "      <th>Date</th>\n",
              "      <th>Open</th>\n",
              "      <th>High</th>\n",
              "      <th>Low</th>\n",
              "      <th>Close</th>\n",
              "      <th>Adj Close</th>\n",
              "      <th>Volume</th>\n",
              "    </tr>\n",
              "  </thead>\n",
              "  <tbody>\n",
              "    <tr>\n",
              "      <th>0</th>\n",
              "      <td>2022-03-17</td>\n",
              "      <td>13360.719727</td>\n",
              "      <td>13620.799805</td>\n",
              "      <td>13317.139648</td>\n",
              "      <td>13614.780273</td>\n",
              "      <td>13614.780273</td>\n",
              "      <td>5612090000</td>\n",
              "    </tr>\n",
              "    <tr>\n",
              "      <th>1</th>\n",
              "      <td>2022-03-18</td>\n",
              "      <td>13564.629883</td>\n",
              "      <td>13899.280273</td>\n",
              "      <td>13528.059570</td>\n",
              "      <td>13893.839844</td>\n",
              "      <td>13893.839844</td>\n",
              "      <td>8149290000</td>\n",
              "    </tr>\n",
              "    <tr>\n",
              "      <th>2</th>\n",
              "      <td>2022-03-21</td>\n",
              "      <td>13860.389648</td>\n",
              "      <td>13945.809570</td>\n",
              "      <td>13682.549805</td>\n",
              "      <td>13838.459961</td>\n",
              "      <td>13838.459961</td>\n",
              "      <td>5673940000</td>\n",
              "    </tr>\n",
              "    <tr>\n",
              "      <th>3</th>\n",
              "      <td>2022-03-22</td>\n",
              "      <td>13866.429688</td>\n",
              "      <td>14141.070313</td>\n",
              "      <td>13857.290039</td>\n",
              "      <td>14108.820313</td>\n",
              "      <td>14108.820313</td>\n",
              "      <td>5445100000</td>\n",
              "    </tr>\n",
              "    <tr>\n",
              "      <th>4</th>\n",
              "      <td>2022-03-23</td>\n",
              "      <td>13990.349609</td>\n",
              "      <td>14152.139648</td>\n",
              "      <td>13921.650391</td>\n",
              "      <td>13922.599609</td>\n",
              "      <td>13922.599609</td>\n",
              "      <td>5024230000</td>\n",
              "    </tr>\n",
              "  </tbody>\n",
              "</table>\n",
              "</div>\n",
              "      <button class=\"colab-df-convert\" onclick=\"convertToInteractive('df-c0ae0282-7c52-4771-b14d-63620ce35925')\"\n",
              "              title=\"Convert this dataframe to an interactive table.\"\n",
              "              style=\"display:none;\">\n",
              "        \n",
              "  <svg xmlns=\"http://www.w3.org/2000/svg\" height=\"24px\"viewBox=\"0 0 24 24\"\n",
              "       width=\"24px\">\n",
              "    <path d=\"M0 0h24v24H0V0z\" fill=\"none\"/>\n",
              "    <path d=\"M18.56 5.44l.94 2.06.94-2.06 2.06-.94-2.06-.94-.94-2.06-.94 2.06-2.06.94zm-11 1L8.5 8.5l.94-2.06 2.06-.94-2.06-.94L8.5 2.5l-.94 2.06-2.06.94zm10 10l.94 2.06.94-2.06 2.06-.94-2.06-.94-.94-2.06-.94 2.06-2.06.94z\"/><path d=\"M17.41 7.96l-1.37-1.37c-.4-.4-.92-.59-1.43-.59-.52 0-1.04.2-1.43.59L10.3 9.45l-7.72 7.72c-.78.78-.78 2.05 0 2.83L4 21.41c.39.39.9.59 1.41.59.51 0 1.02-.2 1.41-.59l7.78-7.78 2.81-2.81c.8-.78.8-2.07 0-2.86zM5.41 20L4 18.59l7.72-7.72 1.47 1.35L5.41 20z\"/>\n",
              "  </svg>\n",
              "      </button>\n",
              "      \n",
              "  <style>\n",
              "    .colab-df-container {\n",
              "      display:flex;\n",
              "      flex-wrap:wrap;\n",
              "      gap: 12px;\n",
              "    }\n",
              "\n",
              "    .colab-df-convert {\n",
              "      background-color: #E8F0FE;\n",
              "      border: none;\n",
              "      border-radius: 50%;\n",
              "      cursor: pointer;\n",
              "      display: none;\n",
              "      fill: #1967D2;\n",
              "      height: 32px;\n",
              "      padding: 0 0 0 0;\n",
              "      width: 32px;\n",
              "    }\n",
              "\n",
              "    .colab-df-convert:hover {\n",
              "      background-color: #E2EBFA;\n",
              "      box-shadow: 0px 1px 2px rgba(60, 64, 67, 0.3), 0px 1px 3px 1px rgba(60, 64, 67, 0.15);\n",
              "      fill: #174EA6;\n",
              "    }\n",
              "\n",
              "    [theme=dark] .colab-df-convert {\n",
              "      background-color: #3B4455;\n",
              "      fill: #D2E3FC;\n",
              "    }\n",
              "\n",
              "    [theme=dark] .colab-df-convert:hover {\n",
              "      background-color: #434B5C;\n",
              "      box-shadow: 0px 1px 3px 1px rgba(0, 0, 0, 0.15);\n",
              "      filter: drop-shadow(0px 1px 2px rgba(0, 0, 0, 0.3));\n",
              "      fill: #FFFFFF;\n",
              "    }\n",
              "  </style>\n",
              "\n",
              "      <script>\n",
              "        const buttonEl =\n",
              "          document.querySelector('#df-c0ae0282-7c52-4771-b14d-63620ce35925 button.colab-df-convert');\n",
              "        buttonEl.style.display =\n",
              "          google.colab.kernel.accessAllowed ? 'block' : 'none';\n",
              "\n",
              "        async function convertToInteractive(key) {\n",
              "          const element = document.querySelector('#df-c0ae0282-7c52-4771-b14d-63620ce35925');\n",
              "          const dataTable =\n",
              "            await google.colab.kernel.invokeFunction('convertToInteractive',\n",
              "                                                     [key], {});\n",
              "          if (!dataTable) return;\n",
              "\n",
              "          const docLinkHtml = 'Like what you see? Visit the ' +\n",
              "            '<a target=\"_blank\" href=https://colab.research.google.com/notebooks/data_table.ipynb>data table notebook</a>'\n",
              "            + ' to learn more about interactive tables.';\n",
              "          element.innerHTML = '';\n",
              "          dataTable['output_type'] = 'display_data';\n",
              "          await google.colab.output.renderOutput(dataTable, element);\n",
              "          const docLink = document.createElement('div');\n",
              "          docLink.innerHTML = docLinkHtml;\n",
              "          element.appendChild(docLink);\n",
              "        }\n",
              "      </script>\n",
              "    </div>\n",
              "  </div>\n",
              "  "
            ]
          },
          "metadata": {},
          "execution_count": 5
        }
      ]
    },
    {
      "cell_type": "code",
      "source": [
        "#general share info\n",
        "aggprice = agg[\"Close\"]\n",
        "agg_return = [(aggprice[i] - aggprice[i-1]) / aggprice[i-1] for i in range(1, len(agg.index))]\n",
        "agg_expected = 0.02\n",
        "agg_stdev = np.std(agg_return) * len(agg.index)**0.5\n",
        "\n",
        "nasdaqprice = nasdaq[\"Close\"]\n",
        "nasdaq_return = [(nasdaqprice[i] - nasdaqprice[i-1]) / nasdaqprice[i-1] for i in range(1, len(nasdaq.index))]\n",
        "nasdaq_expected = 0.07\n",
        "nasdaq_stdev = np.std(nasdaq_return) * len(nasdaq.index)**0.5\n",
        "\n",
        "def cov(x,y): \n",
        "  dx = x - np.mean(x)\n",
        "  dy = y - np.mean(y)\n",
        "  return np.dot(dx,dy)/(len(x))\n",
        "\n",
        "cov = cov(nasdaq_return, agg_return) * len(agg.index)\n",
        "\n",
        "print(agg_stdev)\n",
        "print(nasdaq_stdev)\n",
        "print(cov)"
      ],
      "metadata": {
        "colab": {
          "base_uri": "https://localhost:8080/"
        },
        "id": "mq3YMaQryZmJ",
        "outputId": "3db76620-0508-4ece-9724-2f7e21ac93c2"
      },
      "execution_count": null,
      "outputs": [
        {
          "output_type": "stream",
          "name": "stdout",
          "text": [
            "0.08284338759008895\n",
            "0.3020918419285206\n",
            "0.008476299273116435\n"
          ]
        }
      ]
    },
    {
      "cell_type": "code",
      "source": [
        "#applying monte carlo simulation\n",
        "np.random.seed(0)\n",
        "simul = 10000\n",
        "alpha = 0.1\n",
        "\n",
        "#current portfolio value\n",
        "current = 100000\n",
        "\n",
        "#rate\n",
        "nasdaq_rate = 0.7\n",
        "agg_rate = 1 - nasdaq_rate\n",
        "\n",
        "#portfolio variance and standard deviation\n",
        "port_var = nasdaq_rate ** 2 * nasdaq_stdev ** 2 + agg_rate **2 * agg_stdev ** 2 + 2*nasdaq_rate * agg_rate * cov\n",
        "port_std = port_var ** 1/2\n",
        "\n",
        "print(port_var)\n",
        "print(port_std)"
      ],
      "metadata": {
        "colab": {
          "base_uri": "https://localhost:8080/"
        },
        "id": "XUDBkiGOykpV",
        "outputId": "e4d81962-bc6d-4993-fe4f-8362cb1ca17e"
      },
      "execution_count": null,
      "outputs": [
        {
          "output_type": "stream",
          "name": "stdout",
          "text": [
            "0.04889486378306053\n",
            "0.024447431891530265\n"
          ]
        }
      ]
    },
    {
      "cell_type": "code",
      "source": [
        "#VAR\n",
        "days = 10\n",
        "import scipy.stats as stats\n",
        "Z = stats.norm.ppf(np.random.rand(10, 20000))\n",
        "\n",
        "expected_return = current * (float(nasdaq_rate) * float(nasdaq_expected) + float(agg_rate) * float(agg_expected)) * (days / len(agg.index))\n",
        "\n",
        "var_scenario = expected_return - (nasdaq_rate * port_var * Z.mean() * (days / len(agg.index) ** 0.5))\n",
        "var_scenario"
      ],
      "metadata": {
        "colab": {
          "base_uri": "https://localhost:8080/"
        },
        "id": "7kvJhl2H9-JF",
        "outputId": "368ec490-ce48-4186-be62-932720a4c0ab"
      },
      "execution_count": null,
      "outputs": [
        {
          "output_type": "execute_result",
          "data": {
            "text/plain": [
              "219.12344454132125"
            ]
          },
          "metadata": {},
          "execution_count": 8
        }
      ]
    },
    {
      "cell_type": "code",
      "source": [
        "# Remember that we want to find the optimal portfolio weights that maximize the expected return while keeping the VaR below a certain threshold.\n",
        "# Rates\n",
        "nasdaq_rates = np.linspace(0.1, 0.9, 9)  # weights range from 10% to 90% in increments of 10%\n",
        "agg_rates = 1 - nasdaq_rates \n",
        "\n",
        "# Create empty table\n",
        "table = pd.DataFrame(index=nasdaq_rates, columns=['Expected Return', 'VaR']) # row indices corresponding to the possible NASDAQ weights\n",
        "\n",
        "# So our purpose is to estimated the expected return and VaR for each possible portfolio weight combination, and fill in the table with these estimates"
      ],
      "metadata": {
        "id": "os_zV7Sx7KQO"
      },
      "execution_count": null,
      "outputs": []
    },
    {
      "cell_type": "markdown",
      "source": [
        "VaR를 일정 임계치 이하로 유지하면서 기대수익률을 극대화하는 최적의 포트폴리오 가중치를 찾는 것이 목표.\\\n",
        "따라서 가중치를 10%씩 증분하여 10%에서 90% 범위를 nasdaq_rate으로 정의한 후, 나머지를 agg_rate로 정의."
      ],
      "metadata": {
        "id": "7nnuBHOvSFf2"
      }
    },
    {
      "cell_type": "code",
      "source": [
        "#Monte Carlo Simulation\n",
        "days = 10\n",
        "norm_Z = stats.norm.ppf(np.random.rand(days, simul))  # create a matrix of normally distributed random variables\n",
        "var_mc = np.zeros(simul)  #create an array of length 'simul' filled with zeros, which will be used to store the results of the Monte Carlo simulation\n",
        "\n",
        "# Loop over each nasdaq_rate value in the nasdaq_rates array and its corresponding agg_rate value in the agg_rates array\n",
        "for i, nasdaq_rate in enumerate(nasdaq_rates):    #loop that iterates through the nasdaq_rates array, and uses the enumerate function to keep track of the current index i and value nasdaq_rate\n",
        "    agg_rate = agg_rates[i] #set agg_rate equal to the corresponding value in agg_rates based on the index i\n",
        "    # Portfolio variance and standard deviation\n",
        "    port_var = nasdaq_rate ** 2 * nasdaq_stdev ** 2 + agg_rate **2 * agg_stdev ** 2 + 2*nasdaq_rate * agg_rate * cov\n",
        "    port_std = port_var ** 0.5\n",
        "    # Expected return\n",
        "    expected_return = current * (float(nasdaq_rate) * float(nasdaq_expected) + float(agg_rate) * float(agg_expected)) * (days / len(agg.index))\n",
        "    # Monte Carlo simulation of VaR (calculating simulated returns of the portfolio)\n",
        "    portfolio_returns = expected_return - (nasdaq_rate * port_var * norm_Z.mean() * (days / len(agg.index) ** 0.5))\n",
        "    portfolio_returns = portfolio_returns.ravel()\n",
        "    percentile = np.percentile(portfolio_returns, q = 100 - alpha * 100, interpolation = \"higher\")  # calculating VaR by taking the percintile of portfolio_returns array based on alpha level\n",
        "    #참조) VaR은 투자자가 특정 기간 동안 일정 수준의 신뢰를 가지고 손실을 에상할 수 있는 최대 금액으로 정의됨. 따라서 백분위수를 활용해 데이터의 특정 백분률 아래의 값을 계산해 VaR값을 알아내는 것. \n",
        "\n",
        "    for j in range(simul):  #loop to iterate simul number of times\n",
        "        random_returns = np.random.choice(portfolio_returns, size=days, replace=True)   #generating a random sapmle of returns from the portfolio_returns array with replacement (the size of sample = days)\n",
        "        var_mc[j] = expected_return - (port_std * np.mean(norm_Z[:, j]) * (days / len(agg.index)) ** 0.5) #aka, simulated VaR. calculating simulated VarR using the Monte Carlo formula previously defined.\n",
        "    var = np.percentile(var_mc, 100 - alpha*100)\n",
        "    table.loc[nasdaq_rate, 'Expected Return'] = expected_return\n",
        "    table.loc[nasdaq_rate, 'VaR'] = var\n",
        "\n",
        "# Print final VaR\n",
        "final_var = np.percentile(var_mc, 100 - alpha*100)\n",
        "print('Final VaR:', final_var)"
      ],
      "metadata": {
        "colab": {
          "base_uri": "https://localhost:8080/"
        },
        "id": "XeBz_cuU7X4W",
        "outputId": "ded92b65-8ed3-477b-b477-4d256df0e872"
      },
      "execution_count": null,
      "outputs": [
        {
          "output_type": "stream",
          "name": "stderr",
          "text": [
            "<ipython-input-46-3bab9870db99>:16: DeprecationWarning: the `interpolation=` argument to percentile was renamed to `method=`, which has additional options.\n",
            "Users of the modes 'nearest', 'lower', 'higher', or 'midpoint' are encouraged to review the method they. (Deprecated NumPy 1.22)\n",
            "  percentile = np.percentile(portfolio_returns, q = 100 - alpha * 100, interpolation = \"higher\")\n"
          ]
        },
        {
          "output_type": "stream",
          "name": "stdout",
          "text": [
            "Final VaR: 258.9862949878128\n"
          ]
        }
      ]
    },
    {
      "cell_type": "markdown",
      "source": [
        "즉, 몬테카를로 시뮬레이션을 통한 VaR의 순서는 다음과 같이 진행된다.\n",
        "1. 포트폴리오의 수익률을 시뮬레이션 하기 위한 days설정, 정규분포 랜덤 변수의 행렬 norm_Z 생성, 몬에카를로 시뮬레이션 결과를 저장하는 데 사용할 0으로 채워진 길이의 시뮬레이션 배열 var_mc 생성.\n",
        "\n",
        "2. 두 개의 loop를 생성해 시뮬레이션 돌리기.\n",
        "2-1. enumerate function을 이용해 nasdaq_rates 배열을 반복하는 루프 설정 후, 현재 인덱스 i와 nadaq_rate 추적. agg_rate의 경우 현재 인덱수 i를 기준으로 동일한 agg_rate를 설정함.\n",
        "\n",
        "  2-2. 공식 대입 해 포트폴리오 값 계산\n",
        "\n",
        "  2-3. range function으로 시물레이션 반복.\n",
        "\n",
        "  2-4. portfolio_returns 배열에서 임의의 반환 샘플 생성 후, var_mc[j]로 반복에 대한 시뮤류레이션 VaR 계산.\n",
        "\n",
        "3. 최종 VaR 값 확인하기"
      ],
      "metadata": {
        "id": "fpr72VdXRLX8"
      }
    },
    {
      "cell_type": "code",
      "source": [
        "# Plot histogram of VaR\n",
        "plt.hist(var_mc, bins=50, color='skyblue')\n",
        "plt.xlabel('VaR')\n",
        "plt.ylabel('Frequency')\n",
        "plt.title('Monte Carlo Simulation of VaR')\n",
        "plt.show()"
      ],
      "metadata": {
        "colab": {
          "base_uri": "https://localhost:8080/",
          "height": 295
        },
        "id": "jWLJsOTC_jwq",
        "outputId": "002ed47c-1361-4ecd-9203-01febac9e566"
      },
      "execution_count": null,
      "outputs": [
        {
          "output_type": "display_data",
          "data": {
            "text/plain": [
              "<Figure size 432x288 with 1 Axes>"
            ],
            "image/png": "[encoded data removed]"
          },
          "metadata": {
            "needs_background": "light"
          }
        }
      ]
    }
  ]
}